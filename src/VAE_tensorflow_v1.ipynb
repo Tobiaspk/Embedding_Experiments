{
 "cells": [
  {
   "cell_type": "markdown",
   "metadata": {},
   "source": [
    "# Implementation of a simple Auto Encoder\n",
    "\n",
    "*Inspiration*: https://github.com/shaohua0116/VAE-Tensorflow/blob/master/demo.ipynb\n",
    "\n",
    "## Introduction\n",
    "\n",
    "Reconstruct images of numbers using a (Variational) Auto Encoder with 3 hidden layers and symmetric encoding and decoding.\n",
    "\n",
    "## Improvement Ideas\n",
    "\n",
    "- Implement more complex structures\n",
    "- Improve the Tensorflow dashboard (not functional in this form)\n",
    "- Use GAN strategies with a counterplayer."
   ]
  },
  {
   "cell_type": "code",
   "execution_count": 1,
   "metadata": {},
   "outputs": [],
   "source": [
    "from time import time\n",
    "import numpy as np\n",
    "import matplotlib.pyplot as plt\n",
    "import tensorflow as tf\n",
    "from tensorflow.contrib.layers import fully_connected as fc"
   ]
  },
  {
   "cell_type": "markdown",
   "metadata": {},
   "source": [
    "### Prepare Images"
   ]
  },
  {
   "cell_type": "code",
   "execution_count": 12,
   "metadata": {},
   "outputs": [],
   "source": [
    "# load images from keras\n",
    "(train_images_inp, train_labels), (test_images_inp, test_labels) = tf.keras.datasets.mnist.load_data()\n",
    "\n",
    "# reshape images to flat and one-hot encode\n",
    "train_images = train_images_inp.reshape(train_images_inp.shape[0], 28*28)/255\n",
    "with tf.Session() as sess:\n",
    "    train_labels_one_hot = sess.run(tf.one_hot(train_labels, 10))\n",
    "test_images = test_images_inp.reshape(test_images_inp.shape[0], 28*28)/255\n",
    "dim = train_images.shape[1]\n",
    "n = train_images.shape[0]"
   ]
  },
  {
   "cell_type": "code",
   "execution_count": 1,
   "metadata": {},
   "outputs": [],
   "source": [
    "### Define the Encoder"
   ]
  },
  {
   "cell_type": "code",
   "execution_count": 25,
   "metadata": {},
   "outputs": [],
   "source": [
    "class Encoder: \n",
    "    \"\"\"\n",
    "    Encode inputs to an embedding. Structure is fixed and must be modified in src. \n",
    "    :param zn: Size of embedding\n",
    "    \"\"\"\n",
    "    def __init__(self, zn):\n",
    "        self.zn = zn\n",
    "        self.eps = 1e-4\n",
    "        self.learn_rate = 1e-4\n",
    "        self.trained_imgs = 0\n",
    "        \n",
    "        # build the model\n",
    "        self.build()\n",
    "        # start and store session\n",
    "        self.sess = tf.Session()\n",
    "        # initialised all variables\n",
    "        self.sess.run(tf.global_variables_initializer())\n",
    "        self.merge = tf.summary.merge_all()\n",
    "        \n",
    "        \n",
    "    def build(self):\n",
    "        with tf.name_scope(\"Encoder\"):\n",
    "            self.input = tf.placeholder(shape=[None, dim], dtype=tf.float32, name=\"Input_Picture\")\n",
    "            self.y = tf.placeholder(shape=[None, 10], dtype=tf.float32, name=\"Label\")\n",
    "\n",
    "            self.h1 = fc(self.input, 256, activation_fn=tf.nn.relu)\n",
    "            self.h2 = fc(self.h1, 128, activation_fn=tf.nn.relu)\n",
    "            self.h3 = fc(self.h2, 64, activation_fn=tf.nn.relu)\n",
    "\n",
    "            self.y_hat = fc(self.h3, self.zn, activation_fn=tf.nn.softmax)\n",
    "\n",
    "            self.loss = tf.reduce_mean(-tf.reduce_sum(self.y * tf.log(self.y_hat), axis=1))\n",
    "            tf.summary.scalar(\"Encoder_Loss\", self.loss)\n",
    "\n",
    "            with tf.name_scope(\"Optimizer\"):\n",
    "                self.optimize = tf.train.AdamOptimizer(learning_rate=self.learn_rate).minimize(self.loss)\n",
    "        \n",
    "    def train_step(self, batch, labels):\n",
    "        # conduct a train step\n",
    "        _ = self.sess.run(self.optimize, feed_dict={self.input:batch, self.y:labels})\n",
    "        merge = self.sess.run(self.merge, feed_dict={self.input:batch[0].reshape(-1, dim),\n",
    "                                                     self.y:labels[0].reshape(-1, 10)})\n",
    "        return(merge)\n",
    "    \n",
    "    def encode(self, batch):\n",
    "        # run encoding\n",
    "        if batch.ndim == 1:\n",
    "            batch = batch.reshape(-1, dim)\n",
    "\n",
    "        output = self.sess.run(self.y_hat, feed_dict={self.input:batch})\n",
    "        return(output)\n",
    "    \n",
    "    def get_loss(self, batch, labels):\n",
    "        loss = self.sess.run(self.loss, feed_dict={self.input:batch, self.y:labels})\n",
    "        return(loss)\n",
    "        \n",
    "    def __del__(self):\n",
    "        # close session upon deleting instance\n",
    "        self.sess.close()"
   ]
  },
  {
   "cell_type": "markdown",
   "metadata": {},
   "source": [
    "### Define the Decoder"
   ]
  },
  {
   "cell_type": "code",
   "execution_count": 20,
   "metadata": {},
   "outputs": [],
   "source": [
    "class Decoder: \n",
    "    \n",
    "    def __init__(self, zn):\n",
    "        \"\"\"\n",
    "        Decode the embedding of dimension 10.\n",
    "        :param zn: Size of embedding\n",
    "        \"\"\"\n",
    "        self.zn = zn\n",
    "        self.eps = 1e-4\n",
    "        self.learn_rate = 1e-4\n",
    "        self.trained_imgs = 0\n",
    "        \n",
    "        # build model\n",
    "        self.build()\n",
    "        # start and store session\n",
    "        self.sess = tf.Session()\n",
    "        # initialised variables\n",
    "        self.sess.run(tf.global_variables_initializer())\n",
    "        self.merge = tf.summary.merge_all()\n",
    "        \n",
    "        \n",
    "    def build(self):\n",
    "        with tf.name_scope(\"Encoder\"):\n",
    "            self.output = tf.placeholder(shape=[None, dim], dtype=tf.float32, name=\"Output_Picture\")\n",
    "            self.y = tf.placeholder(shape=[None, self.zn], dtype=tf.float32, name=\"Label\")\n",
    "\n",
    "            self.h1 = fc(self.y, 64, activation_fn=tf.nn.relu)\n",
    "            self.h2 = fc(self.h1, 128, activation_fn=tf.nn.relu)\n",
    "            self.h3 = fc(self.h2, 256, activation_fn=tf.nn.relu)\n",
    "\n",
    "            self.output_hat = fc(self.h3, dim, activation_fn=tf.nn.sigmoid)\n",
    "\n",
    "            self.recon = tf.reduce_mean(\n",
    "                -tf.reduce_sum(\n",
    "                    self.output * tf.log(self.eps + self.output_hat) + (1 - self.output) * tf.log(self.eps + 1 - self.output_hat),\n",
    "                    axis=1\n",
    "                )\n",
    "            )\n",
    "            tf.summary.scalar(\"Decoder_Loss\", self.recon)\n",
    "\n",
    "            with tf.name_scope(\"Optimizer\"):\n",
    "                self.optimize = tf.train.AdamOptimizer(learning_rate=self.learn_rate).minimize(self.recon)\n",
    "\n",
    "    def train_step(self, batch, labels):\n",
    "        _ = self.sess.run(self.optimize, feed_dict={self.output:batch, self.y:labels})\n",
    "        merge = self.sess.run(self.merge, feed_dict={self.output:batch[0].reshape(-1, dim),\n",
    "                                                     self.y:labels[0].reshape(-1, 10)})\n",
    "        return(merge)\n",
    "\n",
    "    def decode(self, labels):\n",
    "        output = self.sess.run(self.output_hat, feed_dict={self.y:labels})\n",
    "        return(output)\n",
    "    \n",
    "    def get_loss(self, batch, labels):\n",
    "        loss = self.sess.run(self.recon, feed_dict={self.output:batch, self.y:labels})\n",
    "        return(loss)\n",
    "        \n",
    "    def __del__(self):\n",
    "        self.sess.close()"
   ]
  },
  {
   "cell_type": "code",
   "execution_count": 2,
   "metadata": {},
   "outputs": [],
   "source": [
    "### Combine Encoder and Decoder"
   ]
  },
  {
   "cell_type": "code",
   "execution_count": 21,
   "metadata": {},
   "outputs": [],
   "source": [
    "class AE():\n",
    "    \"\"\"\n",
    "    Combine encoder and decoder in an (Variational) Auto-Encoder.\n",
    "    :param zn: Size of embedding\n",
    "    \"\"\"\n",
    "    def __init__(self, zn=10, tensorboard_url=\"/usr/local/lib/python3.7/site-packages/log_dir\"):\n",
    "        self.enc = Encoder(zn=zn)\n",
    "        self.dec = Decoder(zn=zn)\n",
    "        # experimenting with tensorboard\n",
    "        self.writer = tf.summary.FileWriter(tensorboard_url)\n",
    "        self.writer.add_graph(self.enc.sess.graph)\n",
    "        self.writer.add_graph(self.dec.sess.graph)\n",
    "        \n",
    "        self.trained_images = 0\n",
    "        self.i_writer = 0\n",
    "    \n",
    "    def train_step_enc(self, batch, labels):\n",
    "        # conduct a training step on encoding\n",
    "        self.enc.train_step(batch=batch, labels=labels)\n",
    "    \n",
    "    def train_step_dec(self, batch, labels):\n",
    "        # conduct a training step on decoding\n",
    "        self.dec.train_step(batch=batch, labels=labels)\n",
    "    \n",
    "    def train_step(self, batch, labels):\n",
    "        # combine encoding and decoding\n",
    "        merge_enc = self.enc.train_step(batch=batch, labels=labels)\n",
    "        merge_dec = self.dec.train_step(batch=batch, labels=labels)\n",
    "        self.writer.add_summary(merge_enc, self.i_writer)\n",
    "        self.writer.add_summary(merge_dec, self.i_writer)\n",
    "        self.i_writer += 1\n",
    "        \n",
    "    def encode(self, batch):\n",
    "        output = self.enc.encode(batch=batch)\n",
    "        return(output)\n",
    "    \n",
    "    def decode(self, labels):\n",
    "        output = self.dec.decode(labels=labels)\n",
    "        return(output)\n",
    "        \n",
    "    def reconstruct(self, batch):\n",
    "        # encode and decode an input\n",
    "        y_hat = self.encode(batch)\n",
    "        output = self.decode(y_hat)\n",
    "        return(output)    \n",
    "        \n",
    "    def get_loss(self, batch, labels):\n",
    "        # retriev all losses\n",
    "        y_hat = self.encode(batch)\n",
    "\n",
    "        loss = {\n",
    "            \"encode\":self.enc.get_loss(batch=batch, labels=labels),\n",
    "            \"decode\":self.dec.get_loss(batch=batch, labels=y_hat),\n",
    "            \"total\":self.enc.get_loss(batch=batch, labels=labels) + self.dec.get_loss(batch=batch, labels=y_hat),\n",
    "        }\n",
    "        \n",
    "        return(loss)\n",
    "        \n",
    "    def plot_recon(self, batch):\n",
    "        # plot reconstructed image\n",
    "        fig = plt.figure(figsize=(12, 12))\n",
    "        if batch.ndim == 1: batch = batch.reshape(-1, dim)\n",
    "        n = batch.shape[0]\n",
    "        \n",
    "        for i in range(n):\n",
    "            img = batch[i]\n",
    "            \n",
    "            plt.subplot(n, 2, 2 * i + 1)\n",
    "            plt.imshow(img.reshape(28, 28))\n",
    "            \n",
    "            plt.subplot(n, 2, 2 * i + 2)\n",
    "            plt.imshow(self.reconstruct(img).reshape(28, 28))"
   ]
  },
  {
   "cell_type": "code",
   "execution_count": 3,
   "metadata": {},
   "outputs": [],
   "source": [
    "### Define a trainer function"
   ]
  },
  {
   "cell_type": "code",
   "execution_count": 22,
   "metadata": {},
   "outputs": [],
   "source": [
    "def trainer(model, images, labels, k=3, batch_size=64, n=None):\n",
    "    \"\"\"\n",
    "    Function to help train the model.\n",
    "    :param model: Object AE as defined above\n",
    "    :param images: array of flat images\n",
    "    :param labels: corresponding image labels array\n",
    "    :param k: number of epochs\n",
    "    :param batch_size: number of batches\n",
    "    :param n: number of inputs\n",
    "    \"\"\"\n",
    "    \n",
    "    if n is None: n = images.shape[0]\n",
    "    loss_all = []\n",
    "    \n",
    "    for e in range(k):\n",
    "        begin = time()\n",
    "        for i in range(n//batch_size):\n",
    "            batch = images[batch_size*i:batch_size*(i+1)]\n",
    "            batch_labels = labels[batch_size*i:batch_size*(i+1)]\n",
    "            model.train_step(batch=batch, labels=batch_labels)\n",
    "            \n",
    "        loss_all.append(model.get_loss(batch=images, labels=labels))\n",
    "        print(\"Epoch \" + str(e) + \" done in \" + str(round(time() - begin, 3)) + \" seconds.\")\n",
    "        \n",
    "    return(model, loss_all)"
   ]
  },
  {
   "cell_type": "markdown",
   "metadata": {},
   "source": [
    "### Apply model"
   ]
  },
  {
   "cell_type": "code",
   "execution_count": null,
   "metadata": {},
   "outputs": [],
   "source": [
    "# delete, create and train model\n",
    "if \"ae\" in globals(): del ae\n",
    "ae = AE(\"/.../log_dir/test3\")\n",
    "ae, loss_all = trainer(ae, images=train_images, labels=train_labels_one_hot, k=2)"
   ]
  },
  {
   "cell_type": "code",
   "execution_count": 25,
   "metadata": {},
   "outputs": [
    {
     "data": {
      "text/plain": [
       "[{'encode': 0.25861108, 'decode': 190.9757, 'total': 191.2343},\n",
       " {'encode': 0.18774544, 'decode': 175.48595, 'total': 175.67369}]"
      ]
     },
     "execution_count": 25,
     "metadata": {},
     "output_type": "execute_result"
    }
   ],
   "source": [
    "loss_all"
   ]
  },
  {
   "cell_type": "code",
   "execution_count": 26,
   "metadata": {},
   "outputs": [
    {
     "data": {
      "image/png": "[encoded data removed]",
      "text/plain": [
       "<Figure size 864x864 with 10 Axes>"
      ]
     },
     "metadata": {
      "needs_background": "light"
     },
     "output_type": "display_data"
    }
   ],
   "source": [
    "ae.plot_recon(batch=train_images[:5])"
   ]
  }
 ],
 "metadata": {
  "kernelspec": {
   "display_name": "Python 3",
   "language": "python",
   "name": "python3"
  },
  "language_info": {
   "codemirror_mode": {
    "name": "ipython",
    "version": 3
   },
   "file_extension": ".py",
   "mimetype": "text/x-python",
   "name": "python",
   "nbconvert_exporter": "python",
   "pygments_lexer": "ipython3",
   "version": "3.8.6"
  }
 },
 "nbformat": 4,
 "nbformat_minor": 4
}
